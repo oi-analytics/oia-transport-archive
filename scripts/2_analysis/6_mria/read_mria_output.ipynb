{
 "cells": [
  {
   "cell_type": "code",
   "execution_count": null,
   "metadata": {},
   "outputs": [],
   "source": [
    "%matplotlib inline\n",
    "\n",
    "import os\n",
    "import sys\n",
    "import pandas as pd"
   ]
  },
  {
   "cell_type": "code",
   "execution_count": null,
   "metadata": {},
   "outputs": [],
   "source": [
    "from vtra.utils import load_config"
   ]
  },
  {
   "cell_type": "code",
   "execution_count": null,
   "metadata": {},
   "outputs": [],
   "source": [
    "data_path = load_config()['paths']['data']\n",
    "econ_results_path = os.path.join(data_path,'Results','Economic_failure_results') "
   ]
  },
  {
   "cell_type": "code",
   "execution_count": null,
   "metadata": {},
   "outputs": [],
   "source": [
    "summarized = [os.path.join(econ_results_path,'summarized',x) for x in os.listdir(os.path.join(econ_results_path,'summarized'))]\n",
    "provincial = [os.path.join(econ_results_path,'provincial',x) for x in os.listdir(os.path.join(econ_results_path,'provincial'))]"
   ]
  },
  {
   "cell_type": "code",
   "execution_count": null,
   "metadata": {},
   "outputs": [],
   "source": [
    "for summarize in summarized:\n",
    "    sum_df = pd.read_csv(summarize)\n",
    "    sum_df['total_losses'] = sum_df['total_losses']*-1\n",
    "    print(sum_df.mean())"
   ]
  }
 ],
 "metadata": {
  "kernelspec": {
   "display_name": "Python 3",
   "language": "python",
   "name": "python3"
  },
  "language_info": {
   "codemirror_mode": {
    "name": "ipython",
    "version": 3
   },
   "file_extension": ".py",
   "mimetype": "text/x-python",
   "name": "python",
   "nbconvert_exporter": "python",
   "pygments_lexer": "ipython3",
   "version": "3.6.3"
  }
 },
 "nbformat": 4,
 "nbformat_minor": 2
}
